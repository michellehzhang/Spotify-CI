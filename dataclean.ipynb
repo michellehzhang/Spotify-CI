{
 "cells": [
  {
   "cell_type": "code",
   "execution_count": null,
   "metadata": {},
   "outputs": [],
   "source": [
    "import pandas as pd\n",
    "import numpy as np\n",
    "import requests\n",
    "\n",
    "df_stream = pd.read_json('/Users/michellezhang/Documents/HMS/Jiam Lab/Spotify Project/Data/29/29_Spotify Extended Streaming History/Streaming_History_Audio_2013-2024_29.json')\n",
    "\n",
    "df_stream['UniqueID'] = df_stream['master_metadata_album_artist_name'] + \":\" + df_stream['master_metadata_track_name']\n",
    "\n",
    "df_stream.head()"
   ]
  },
  {
   "cell_type": "code",
   "execution_count": null,
   "metadata": {},
   "outputs": [],
   "source": [
    "#Checking URIs \n",
    "\n",
    "missing_uris = df_stream[df_stream['spotify_track_uri'].isnull()]\n",
    "print(\"Rows with missing 'spotify_track_uri':\")\n",
    "print(missing_uris)"
   ]
  },
  {
   "cell_type": "code",
   "execution_count": null,
   "metadata": {},
   "outputs": [],
   "source": [
    "#Cleaning df_stream by getting rid of rows without URIs\n",
    "\n",
    "df_stream_cleaned = df_stream.dropna(subset=['spotify_track_uri'])\n",
    "\n",
    "df_stream_cleaned.head()\n"
   ]
  },
  {
   "cell_type": "code",
   "execution_count": null,
   "metadata": {},
   "outputs": [],
   "source": [
    "\n",
    "# create blank dictionary to store track URI, artist URI, and genres\n",
    "feature_dict = {}\n",
    "\n",
    "# convert track_uri column to an iterable list\n",
    "track_uris = df_stream_cleaned['spotify_track_uri'].to_list()\n",
    "\n",
    "num_entries = len(track_uris)\n",
    "\n",
    "print(\"Number of entries in track_uris\",num_entries)\n",
    "\n",
    "# Removing duplicates\n",
    "unique_track_uris = list(set(track_uris))\n",
    "\n",
    "num_entries_unique = len(unique_track_uris)\n",
    "\n",
    "print(\"Number of entries in track_uris\",num_entries_unique)\n",
    "\n",
    "print(unique_track_uris[:10])\n",
    "\n"
   ]
  },
  {
   "cell_type": "code",
   "execution_count": null,
   "metadata": {},
   "outputs": [],
   "source": [
    "import spotipy\n",
    "import time\n",
    "from spotipy.oauth2 import SpotifyClientCredentials\n",
    "import pandas as pd\n",
    "import random\n",
    "\n",
    "client_id = '400cdcd09b0c49559616bee70d4a1afa'\n",
    "client_secret = '55142e67c4b94f78adc0d7d808b791dc'\n",
    "client_credentials_manager = SpotifyClientCredentials(client_id=client_id, client_secret=client_secret)\n",
    "sp = spotipy.Spotify(client_credentials_manager=client_credentials_manager)\n",
    "sp.trace=False\n"
   ]
  },
  {
   "cell_type": "code",
   "execution_count": null,
   "metadata": {},
   "outputs": [],
   "source": [
    "\n",
    "unique_track_uris\n",
    "\n",
    "#put uri to dataframe\n",
    "df = pd.DataFrame(unique_track_uris, columns= ['URI'])\n",
    "\n",
    "#Initialize empty columns for audio features\n",
    "features_list = ['energy', 'loudness', 'speechiness', 'valence', 'liveness', 'tempo', 'danceability']\n",
    "for feature in features_list:\n",
    "    df[feature] = ''\n",
    "\n",
    "# Define a function to process a batch of URIs\n",
    "def process_batch(batch_uris, df):\n",
    "    for i, URI in enumerate(batch_uris):\n",
    "        features = sp.audio_features(URI)\n",
    "        if features and features[0]:\n",
    "            df.loc[df['URI'] == URI, 'energy'] = features[0]['energy']\n",
    "            df.loc[df['URI'] == URI, 'loudness'] = features[0]['loudness']\n",
    "            df.loc[df['URI'] == URI, 'speechiness'] = features[0]['speechiness']\n",
    "            df.loc[df['URI'] == URI, 'valence'] = features[0]['valence']\n",
    "            df.loc[df['URI'] == URI, 'liveness'] = features[0]['liveness']\n",
    "            df.loc[df['URI'] == URI, 'tempo'] = features[0]['tempo']\n",
    "            df.loc[df['URI'] == URI, 'danceability'] = features[0]['danceability']\n",
    "\n",
    "batch_size = 100\n",
    "for start in range(0, len(unique_track_uris), batch_size):\n",
    "    end = start + batch_size\n",
    "    batch_uris = unique_track_uris[start:end]\n",
    "    process_batch(batch_uris, df)\n",
    "    print(f\"Processed batch {start // batch_size + 1}\")\n",
    "    time.sleep(random.uniform(30, 60))  # Random delay between 30 to 60 seconds\n",
    "\n"
   ]
  }
 ],
 "metadata": {
  "kernelspec": {
   "display_name": "Python 3",
   "language": "python",
   "name": "python3"
  },
  "language_info": {
   "codemirror_mode": {
    "name": "ipython",
    "version": 3
   },
   "file_extension": ".py",
   "mimetype": "text/x-python",
   "name": "python",
   "nbconvert_exporter": "python",
   "pygments_lexer": "ipython3",
   "version": "3.12.3"
  }
 },
 "nbformat": 4,
 "nbformat_minor": 2
}
