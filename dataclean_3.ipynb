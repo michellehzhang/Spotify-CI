{
 "cells": [
  {
   "cell_type": "code",
   "execution_count": null,
   "metadata": {},
   "outputs": [],
   "source": [
    "import pandas as pd\n",
    "import numpy as np\n",
    "\n",
    "df_stream = pd.read_json('/Users/michellezhang/Documents/HMS/Jiam Lab/Spotify Project/Data/29/29_Spotify Extended Streaming History/Streaming_History_Audio_2013-2024_29.json')\n",
    "\n",
    "df_stream['UniqueID'] = df_stream['master_metadata_album_artist_name'] + \":\" + df_stream['master_metadata_track_name']\n",
    "\n",
    "df_stream.head()"
   ]
  },
  {
   "cell_type": "code",
   "execution_count": null,
   "metadata": {},
   "outputs": [],
   "source": [
    "#Cleaning df_stream by getting rid of rows without URIs\n",
    "\n",
    "df_stream_cleaned = df_stream.dropna(subset=['spotify_track_uri'])\n",
    "\n",
    "df_stream_cleaned.head()\n"
   ]
  },
  {
   "cell_type": "code",
   "execution_count": null,
   "metadata": {},
   "outputs": [],
   "source": [
    "\n",
    "# create blank dictionary to store track URI, artist URI, and genres\n",
    "feature_dict = {}\n",
    "\n",
    "# convert track_uri column to an iterable list\n",
    "track_uris = df_stream_cleaned['spotify_track_uri'].to_list()\n",
    "\n",
    "num_entries = len(track_uris)\n",
    "\n",
    "print(\"Number of entries in track_uris\",num_entries)\n",
    "\n",
    "# Removing duplicates\n",
    "unique_track_uris = list(set(track_uris))\n",
    "\n",
    "num_entries_unique = len(unique_track_uris)\n",
    "\n",
    "print(\"Number of entries in unique_track_uris\",num_entries_unique)\n",
    "\n",
    "print(unique_track_uris[:10])\n",
    "\n"
   ]
  },
  {
   "cell_type": "code",
   "execution_count": 5,
   "metadata": {},
   "outputs": [],
   "source": [
    "import spotipy\n",
    "import time\n",
    "import pandas as pd\n",
    "import requests\n",
    "from spotipy.oauth2 import SpotifyClientCredentials\n",
    "from spotipy.exceptions import SpotifyException\n",
    "\n",
    "client_id = '400cdcd09b0c49559616bee70d4a1afa'\n",
    "client_secret = '840d6f90e6934ab0aa70a9c07099534c'\n",
    "client_credentials_manager = SpotifyClientCredentials(client_id=client_id, client_secret=client_secret)\n",
    "sp = spotipy.Spotify(client_credentials_manager=client_credentials_manager)\n",
    "sp.trace=False\n"
   ]
  },
  {
   "cell_type": "code",
   "execution_count": 6,
   "metadata": {},
   "outputs": [
    {
     "name": "stdout",
     "output_type": "stream",
     "text": [
      "Processed batch 1\n",
      "Processed batch 2\n",
      "Processed batch 3\n",
      "Processed batch 4\n",
      "Processed batch 5\n",
      "Processed batch 6\n",
      "Processed batch 7\n",
      "Processed batch 8\n",
      "Processed batch 9\n",
      "Processed batch 10\n",
      "Processed batch 11\n",
      "Processed batch 12\n",
      "Processed batch 13\n",
      "Processed batch 14\n",
      "Processed batch 15\n",
      "Processed batch 16\n",
      "Processed batch 17\n",
      "Processed batch 18\n",
      "Processed batch 19\n",
      "Processed batch 20\n",
      "Processed batch 21\n",
      "Processed batch 22\n"
     ]
    }
   ],
   "source": [
    "\n",
    "# Put URI to dataframe\n",
    "df = pd.DataFrame(unique_track_uris, columns=['URI'])\n",
    "\n",
    "# Initialize empty columns for audio features\n",
    "features_list = ['energy', 'loudness', 'speechiness', 'valence', 'liveness', 'tempo', 'danceability', 'acousticness', 'instrumentalness']\n",
    "for feature in features_list:\n",
    "    df[feature] = ''\n",
    "\n",
    "# Define a function to process a batch of URIs\n",
    "def process_batch(batch_uris, df):\n",
    "    while True:\n",
    "        try:\n",
    "            features = sp.audio_features(batch_uris)\n",
    "            for feature in features:\n",
    "                if feature:\n",
    "                    URI = feature['uri']\n",
    "                    df.loc[df['URI'] == URI, 'energy'] = feature['energy']\n",
    "                    df.loc[df['URI'] == URI, 'acousticness'] = feature['acousticness']\n",
    "                    df.loc[df['URI'] == URI, 'instrumentalness'] = feature['instrumentalness']\n",
    "                    df.loc[df['URI'] == URI, 'loudness'] = feature['loudness']\n",
    "                    df.loc[df['URI'] == URI, 'speechiness'] = feature['speechiness']\n",
    "                    df.loc[df['URI'] == URI, 'valence'] = feature['valence']\n",
    "                    df.loc[df['URI'] == URI, 'liveness'] = feature['liveness']\n",
    "                    df.loc[df['URI'] == URI, 'tempo'] = feature['tempo']\n",
    "                    df.loc[df['URI'] == URI, 'danceability'] = feature['danceability']\n",
    "            break  # Exit the while loop if request is successful\n",
    "        except SpotifyException as e:\n",
    "            if e.http_status == 429:\n",
    "                print(\"429 Too Many Requests encountered. Waiting 30 minutes before retrying...\")\n",
    "                time.sleep(1800)  # Sleep for 1800 seconds (30 minutes)\n",
    "            else:\n",
    "                print(f\"An error occurred: {e}\")\n",
    "                break  # Exit the while loop for other errors\n",
    "            \n",
    "batch_size = 100\n",
    "for start in range(0, len(unique_track_uris), batch_size):\n",
    "    end = start + batch_size\n",
    "    batch_uris = unique_track_uris[start:end]\n",
    "    process_batch(batch_uris, df)\n",
    "    print(f\"Processed batch {start // batch_size + 1}\")\n",
    "    time.sleep(15)  # Fixed 15 second delay between each batch"
   ]
  },
  {
   "cell_type": "code",
   "execution_count": null,
   "metadata": {},
   "outputs": [],
   "source": [
    "#Make URI the index column\n",
    "df=df[['URI']+[col for col in df.columns if col != 'URI']]\n",
    "\n",
    "print(df.head())"
   ]
  },
  {
   "cell_type": "code",
   "execution_count": 62,
   "metadata": {},
   "outputs": [
    {
     "name": "stdout",
     "output_type": "stream",
     "text": [
      "Weighted Average of Audio Features:\n",
      "energy: 5.028122065511312e+21\n",
      "loudness: -3.473626312434061e+22\n",
      "speechiness: 1.300327726457464e+21\n",
      "valence: 2.2111057964665807e+21\n",
      "liveness: 1.5682038285024808e+21\n",
      "tempo: 8.505350386307177e+23\n",
      "danceability: 2.551275918999628e+21\n",
      "acousticness: 8.334509857906367e+19\n",
      "instrumentalness: 1.3688006801543696e+20\n"
     ]
    }
   ],
   "source": [
    "# Method 1 - using dictionaries\n",
    "\n",
    "# Step 1: Create a dictionary to store the count of occurrences of each URI in track_uris\n",
    "uri_count = {}\n",
    "for uri in track_uris:\n",
    "    uri_count[uri] = uri_count.get(uri, 0) + 1\n",
    "\n",
    "# Step 2-4: Calculate the weighted average of each audio feature\n",
    "weighted_avg = {}\n",
    "for feature in features_list:\n",
    "    total_weighted_sum = 0\n",
    "    total_count = 0\n",
    "    for index, row in df.iterrows():\n",
    "        uri = row['URI']\n",
    "        if uri in uri_count:\n",
    "            count = uri_count[uri]\n",
    "            value = row[feature]\n",
    "            if value:  # Only consider non-empty values\n",
    "                total_weighted_sum += value * count\n",
    "                total_count += count\n",
    "    if total_count != 0:\n",
    "        weighted_avg[feature] = total_weighted_sum / total_count\n",
    "    else:\n",
    "        weighted_avg[feature] = 0  # To avoid division by zero if no URI matches\n",
    "\n",
    "print(\"Weighted Average of Audio Features:\")\n",
    "for feature, value in weighted_avg.items():\n",
    "    print(f\"{feature}: {value}\")"
   ]
  },
  {
   "cell_type": "code",
   "execution_count": 61,
   "metadata": {},
   "outputs": [
    {
     "name": "stdout",
     "output_type": "stream",
     "text": [
      "Weighted Average of Audio Features:\n",
      "energy: 5.028122065511312e+21\n",
      "loudness: -3.473626312434061e+22\n",
      "speechiness: 1.2995255501919135e+21\n",
      "valence: 2.2097417583441462e+21\n",
      "liveness: 1.5682038285024808e+21\n",
      "tempo: 8.50010340889428e+23\n",
      "danceability: 2.549702028858357e+21\n",
      "acousticness: 8.334509857906367e+19\n",
      "instrumentalness: 1.0253640417125356e+20\n"
     ]
    }
   ],
   "source": [
    "# Method 2 - using numpy\n",
    "\n",
    "import numpy as np\n",
    "\n",
    "# Convert the DataFrame to a numpy array\n",
    "df_values = df[features_list].to_numpy(dtype=float)\n",
    "\n",
    "# Initialize an array to store the weighted sums\n",
    "weighted_sums = np.zeros(len(features_list))\n",
    "\n",
    "# Initialize a variable to store the total count of URIs in track_uris\n",
    "total_count = 0\n",
    "\n",
    "# Iterate through each row of the DataFrame\n",
    "for index, row in df.iterrows():\n",
    "    uri = row['URI']\n",
    "    if uri in uri_count:\n",
    "        count = uri_count[uri]\n",
    "        weighted_sums += row[features_list] * count\n",
    "        total_count += count\n",
    "\n",
    "# Calculate the weighted average\n",
    "weighted_avg = weighted_sums / total_count\n",
    "\n",
    "# Display the weighted average of audio features\n",
    "print(\"Weighted Average of Audio Features:\")\n",
    "for feature, value in zip(features_list, weighted_avg):\n",
    "    print(f\"{feature}: {value}\")"
   ]
  }
 ],
 "metadata": {
  "kernelspec": {
   "display_name": "Python 3",
   "language": "python",
   "name": "python3"
  },
  "language_info": {
   "codemirror_mode": {
    "name": "ipython",
    "version": 3
   },
   "file_extension": ".py",
   "mimetype": "text/x-python",
   "name": "python",
   "nbconvert_exporter": "python",
   "pygments_lexer": "ipython3",
   "version": "3.12.3"
  }
 },
 "nbformat": 4,
 "nbformat_minor": 2
}
